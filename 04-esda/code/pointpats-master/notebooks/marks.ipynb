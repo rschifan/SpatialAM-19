{
 "cells": [
  {
   "cell_type": "markdown",
   "metadata": {},
   "source": [
    "# Marked Point Pattern\n",
    "\n",
    "In addition to the [unmarked point pattern](pointpattern.ipynb), non-binary attributes might be associated with each point, leading to the so-called marked point pattern. The charactertistics of a marked point pattern are:\n",
    "\n",
    "* Location pattern of the events are of interest\n",
    "* Stochastic attribute attached to the events is of interest\n",
    "\n",
    "Unmarked point pattern can be modified to be a marked point pattern using the method **add_marks** while the method **explode** could decompose a marked point pattern into a sequence of unmarked point patterns. Both methods belong to the class **PointPattern**."
   ]
  },
  {
   "cell_type": "code",
   "execution_count": 1,
   "metadata": {},
   "outputs": [],
   "source": [
    "from pointpats import PoissonPointProcess, PoissonClusterPointProcess, Window, poly_from_bbox, PointPattern\n",
    "import libpysal as ps\n",
    "from libpysal.cg import shapely_ext\n",
    "%matplotlib inline\n",
    "import matplotlib.pyplot as plt\n",
    "%config InlineBackend.figure_format = 'retina'\n"
   ]
  },
  {
   "cell_type": "code",
   "execution_count": 2,
   "metadata": {},
   "outputs": [],
   "source": [
    "# open the virginia polygon shapefile\n",
    "va = ps.io.open(ps.examples.get_path(\"virginia.shp\"))\n",
    "polys = [shp for shp in va]"
   ]
  },
  {
   "cell_type": "code",
   "execution_count": 3,
   "metadata": {},
   "outputs": [],
   "source": [
    "# Create the exterior polygons for VA from the union of the county shapes\n",
    "state = shapely_ext.cascaded_union(polys)\n",
    "# create window from virginia state boundary\n",
    "window = Window(state.parts)"
   ]
  },
  {
   "cell_type": "code",
   "execution_count": 4,
   "metadata": {},
   "outputs": [
    {
     "data": {
      "text/plain": [
       "[-83.67526245117188, 36.541481018066406, -75.24258422851562, 39.45690155029297]"
      ]
     },
     "execution_count": 4,
     "metadata": {},
     "output_type": "execute_result"
    }
   ],
   "source": [
    "window.bbox"
   ]
  },
  {
   "cell_type": "code",
   "execution_count": 5,
   "metadata": {},
   "outputs": [
    {
     "data": {
      "text/plain": [
       "(-78.85183583334933, 37.51851209850039)"
      ]
     },
     "execution_count": 5,
     "metadata": {},
     "output_type": "execute_result"
    }
   ],
   "source": [
    "window.centroid"
   ]
  },
  {
   "cell_type": "code",
   "execution_count": 6,
   "metadata": {},
   "outputs": [],
   "source": [
    "samples = PoissonPointProcess(window, 200, 1, conditioning=False, asPP=False)"
   ]
  },
  {
   "cell_type": "code",
   "execution_count": 7,
   "metadata": {},
   "outputs": [],
   "source": [
    "csr = PointPattern(samples.realizations[0])"
   ]
  },
  {
   "cell_type": "code",
   "execution_count": 8,
   "metadata": {},
   "outputs": [],
   "source": [
    "cx, cy = window.centroid"
   ]
  },
  {
   "cell_type": "code",
   "execution_count": 9,
   "metadata": {},
   "outputs": [
    {
     "data": {
      "text/plain": [
       "-78.85183583334933"
      ]
     },
     "execution_count": 9,
     "metadata": {},
     "output_type": "execute_result"
    }
   ],
   "source": [
    "cx"
   ]
  },
  {
   "cell_type": "code",
   "execution_count": 10,
   "metadata": {},
   "outputs": [
    {
     "data": {
      "text/plain": [
       "37.51851209850039"
      ]
     },
     "execution_count": 10,
     "metadata": {},
     "output_type": "execute_result"
    }
   ],
   "source": [
    "cy"
   ]
  },
  {
   "cell_type": "code",
   "execution_count": 11,
   "metadata": {},
   "outputs": [],
   "source": [
    "west = csr.points.x < cx\n",
    "south = csr.points.y < cy\n",
    "east = 1 - west\n",
    "north = 1 - south"
   ]
  },
  {
   "cell_type": "markdown",
   "metadata": {},
   "source": [
    "#### Create an attribute named quad which has a value for each event."
   ]
  },
  {
   "cell_type": "code",
   "execution_count": 12,
   "metadata": {},
   "outputs": [],
   "source": [
    "quad = 1 * east * north +  2 * west * north + 3 * west * south + 4 * east * south"
   ]
  },
  {
   "cell_type": "code",
   "execution_count": 13,
   "metadata": {},
   "outputs": [
    {
     "data": {
      "text/plain": [
       "pandas.core.series.Series"
      ]
     },
     "execution_count": 13,
     "metadata": {},
     "output_type": "execute_result"
    }
   ],
   "source": [
    "type(quad)"
   ]
  },
  {
   "cell_type": "code",
   "execution_count": 14,
   "metadata": {},
   "outputs": [
    {
     "data": {
      "text/plain": [
       "0      1\n",
       "1      3\n",
       "2      1\n",
       "3      4\n",
       "4      1\n",
       "5      1\n",
       "6      1\n",
       "7      4\n",
       "8      1\n",
       "9      3\n",
       "10     1\n",
       "11     4\n",
       "12     1\n",
       "13     3\n",
       "14     4\n",
       "15     2\n",
       "16     3\n",
       "17     3\n",
       "18     4\n",
       "19     3\n",
       "20     3\n",
       "21     3\n",
       "22     2\n",
       "23     3\n",
       "24     2\n",
       "25     4\n",
       "26     1\n",
       "27     1\n",
       "28     1\n",
       "29     1\n",
       "      ..\n",
       "170    1\n",
       "171    4\n",
       "172    4\n",
       "173    4\n",
       "174    1\n",
       "175    1\n",
       "176    3\n",
       "177    3\n",
       "178    3\n",
       "179    1\n",
       "180    4\n",
       "181    4\n",
       "182    1\n",
       "183    1\n",
       "184    3\n",
       "185    1\n",
       "186    4\n",
       "187    4\n",
       "188    1\n",
       "189    3\n",
       "190    3\n",
       "191    1\n",
       "192    1\n",
       "193    4\n",
       "194    2\n",
       "195    2\n",
       "196    3\n",
       "197    2\n",
       "198    3\n",
       "199    1\n",
       "Length: 200, dtype: int64"
      ]
     },
     "execution_count": 14,
     "metadata": {},
     "output_type": "execute_result"
    }
   ],
   "source": [
    "quad"
   ]
  },
  {
   "cell_type": "markdown",
   "metadata": {},
   "source": [
    "#### Attach the attribute quad to the point pattern "
   ]
  },
  {
   "cell_type": "code",
   "execution_count": 15,
   "metadata": {},
   "outputs": [],
   "source": [
    "csr.add_marks([quad], mark_names=['quad'])"
   ]
  },
  {
   "cell_type": "code",
   "execution_count": 16,
   "metadata": {},
   "outputs": [
    {
     "data": {
      "text/html": [
       "<div>\n",
       "<style scoped>\n",
       "    .dataframe tbody tr th:only-of-type {\n",
       "        vertical-align: middle;\n",
       "    }\n",
       "\n",
       "    .dataframe tbody tr th {\n",
       "        vertical-align: top;\n",
       "    }\n",
       "\n",
       "    .dataframe thead th {\n",
       "        text-align: right;\n",
       "    }\n",
       "</style>\n",
       "<table border=\"1\" class=\"dataframe\">\n",
       "  <thead>\n",
       "    <tr style=\"text-align: right;\">\n",
       "      <th></th>\n",
       "      <th>x</th>\n",
       "      <th>y</th>\n",
       "      <th>quad</th>\n",
       "    </tr>\n",
       "  </thead>\n",
       "  <tbody>\n",
       "    <tr>\n",
       "      <th>0</th>\n",
       "      <td>-78.053891</td>\n",
       "      <td>39.269977</td>\n",
       "      <td>1</td>\n",
       "    </tr>\n",
       "    <tr>\n",
       "      <th>1</th>\n",
       "      <td>-80.722252</td>\n",
       "      <td>37.264560</td>\n",
       "      <td>3</td>\n",
       "    </tr>\n",
       "    <tr>\n",
       "      <th>2</th>\n",
       "      <td>-77.505943</td>\n",
       "      <td>38.707540</td>\n",
       "      <td>1</td>\n",
       "    </tr>\n",
       "    <tr>\n",
       "      <th>3</th>\n",
       "      <td>-77.227168</td>\n",
       "      <td>36.800518</td>\n",
       "      <td>4</td>\n",
       "    </tr>\n",
       "    <tr>\n",
       "      <th>4</th>\n",
       "      <td>-77.293841</td>\n",
       "      <td>37.533684</td>\n",
       "      <td>1</td>\n",
       "    </tr>\n",
       "    <tr>\n",
       "      <th>5</th>\n",
       "      <td>-78.401097</td>\n",
       "      <td>37.648026</td>\n",
       "      <td>1</td>\n",
       "    </tr>\n",
       "    <tr>\n",
       "      <th>6</th>\n",
       "      <td>-77.347530</td>\n",
       "      <td>39.013155</td>\n",
       "      <td>1</td>\n",
       "    </tr>\n",
       "    <tr>\n",
       "      <th>7</th>\n",
       "      <td>-78.274185</td>\n",
       "      <td>37.424484</td>\n",
       "      <td>4</td>\n",
       "    </tr>\n",
       "    <tr>\n",
       "      <th>8</th>\n",
       "      <td>-78.375259</td>\n",
       "      <td>38.381770</td>\n",
       "      <td>1</td>\n",
       "    </tr>\n",
       "    <tr>\n",
       "      <th>9</th>\n",
       "      <td>-79.390132</td>\n",
       "      <td>36.776448</td>\n",
       "      <td>3</td>\n",
       "    </tr>\n",
       "    <tr>\n",
       "      <th>10</th>\n",
       "      <td>-76.849212</td>\n",
       "      <td>37.871477</td>\n",
       "      <td>1</td>\n",
       "    </tr>\n",
       "    <tr>\n",
       "      <th>11</th>\n",
       "      <td>-77.965944</td>\n",
       "      <td>37.215695</td>\n",
       "      <td>4</td>\n",
       "    </tr>\n",
       "    <tr>\n",
       "      <th>12</th>\n",
       "      <td>-76.757029</td>\n",
       "      <td>37.562355</td>\n",
       "      <td>1</td>\n",
       "    </tr>\n",
       "    <tr>\n",
       "      <th>13</th>\n",
       "      <td>-80.770646</td>\n",
       "      <td>37.213946</td>\n",
       "      <td>3</td>\n",
       "    </tr>\n",
       "    <tr>\n",
       "      <th>14</th>\n",
       "      <td>-76.945093</td>\n",
       "      <td>37.336912</td>\n",
       "      <td>4</td>\n",
       "    </tr>\n",
       "    <tr>\n",
       "      <th>15</th>\n",
       "      <td>-79.812016</td>\n",
       "      <td>38.106899</td>\n",
       "      <td>2</td>\n",
       "    </tr>\n",
       "    <tr>\n",
       "      <th>16</th>\n",
       "      <td>-79.872700</td>\n",
       "      <td>36.874345</td>\n",
       "      <td>3</td>\n",
       "    </tr>\n",
       "    <tr>\n",
       "      <th>17</th>\n",
       "      <td>-82.582098</td>\n",
       "      <td>36.671767</td>\n",
       "      <td>3</td>\n",
       "    </tr>\n",
       "    <tr>\n",
       "      <th>18</th>\n",
       "      <td>-78.397111</td>\n",
       "      <td>37.296970</td>\n",
       "      <td>4</td>\n",
       "    </tr>\n",
       "    <tr>\n",
       "      <th>19</th>\n",
       "      <td>-80.278897</td>\n",
       "      <td>37.459415</td>\n",
       "      <td>3</td>\n",
       "    </tr>\n",
       "    <tr>\n",
       "      <th>20</th>\n",
       "      <td>-82.762086</td>\n",
       "      <td>36.938877</td>\n",
       "      <td>3</td>\n",
       "    </tr>\n",
       "    <tr>\n",
       "      <th>21</th>\n",
       "      <td>-82.010229</td>\n",
       "      <td>37.383045</td>\n",
       "      <td>3</td>\n",
       "    </tr>\n",
       "    <tr>\n",
       "      <th>22</th>\n",
       "      <td>-79.119400</td>\n",
       "      <td>38.028818</td>\n",
       "      <td>2</td>\n",
       "    </tr>\n",
       "    <tr>\n",
       "      <th>23</th>\n",
       "      <td>-80.266618</td>\n",
       "      <td>36.898931</td>\n",
       "      <td>3</td>\n",
       "    </tr>\n",
       "    <tr>\n",
       "      <th>24</th>\n",
       "      <td>-79.561258</td>\n",
       "      <td>38.558345</td>\n",
       "      <td>2</td>\n",
       "    </tr>\n",
       "    <tr>\n",
       "      <th>25</th>\n",
       "      <td>-76.156882</td>\n",
       "      <td>36.767718</td>\n",
       "      <td>4</td>\n",
       "    </tr>\n",
       "    <tr>\n",
       "      <th>26</th>\n",
       "      <td>-78.376717</td>\n",
       "      <td>37.934723</td>\n",
       "      <td>1</td>\n",
       "    </tr>\n",
       "    <tr>\n",
       "      <th>27</th>\n",
       "      <td>-77.942226</td>\n",
       "      <td>38.793909</td>\n",
       "      <td>1</td>\n",
       "    </tr>\n",
       "    <tr>\n",
       "      <th>28</th>\n",
       "      <td>-78.491945</td>\n",
       "      <td>38.952566</td>\n",
       "      <td>1</td>\n",
       "    </tr>\n",
       "    <tr>\n",
       "      <th>29</th>\n",
       "      <td>-78.240776</td>\n",
       "      <td>38.855215</td>\n",
       "      <td>1</td>\n",
       "    </tr>\n",
       "    <tr>\n",
       "      <th>...</th>\n",
       "      <td>...</td>\n",
       "      <td>...</td>\n",
       "      <td>...</td>\n",
       "    </tr>\n",
       "    <tr>\n",
       "      <th>170</th>\n",
       "      <td>-77.842549</td>\n",
       "      <td>37.766652</td>\n",
       "      <td>1</td>\n",
       "    </tr>\n",
       "    <tr>\n",
       "      <th>171</th>\n",
       "      <td>-78.449586</td>\n",
       "      <td>36.735904</td>\n",
       "      <td>4</td>\n",
       "    </tr>\n",
       "    <tr>\n",
       "      <th>172</th>\n",
       "      <td>-78.531413</td>\n",
       "      <td>37.058406</td>\n",
       "      <td>4</td>\n",
       "    </tr>\n",
       "    <tr>\n",
       "      <th>173</th>\n",
       "      <td>-77.126591</td>\n",
       "      <td>37.317093</td>\n",
       "      <td>4</td>\n",
       "    </tr>\n",
       "    <tr>\n",
       "      <th>174</th>\n",
       "      <td>-78.046000</td>\n",
       "      <td>39.068500</td>\n",
       "      <td>1</td>\n",
       "    </tr>\n",
       "    <tr>\n",
       "      <th>175</th>\n",
       "      <td>-78.485640</td>\n",
       "      <td>37.633720</td>\n",
       "      <td>1</td>\n",
       "    </tr>\n",
       "    <tr>\n",
       "      <th>176</th>\n",
       "      <td>-80.112493</td>\n",
       "      <td>37.490263</td>\n",
       "      <td>3</td>\n",
       "    </tr>\n",
       "    <tr>\n",
       "      <th>177</th>\n",
       "      <td>-79.604033</td>\n",
       "      <td>37.083083</td>\n",
       "      <td>3</td>\n",
       "    </tr>\n",
       "    <tr>\n",
       "      <th>178</th>\n",
       "      <td>-79.442671</td>\n",
       "      <td>36.908915</td>\n",
       "      <td>3</td>\n",
       "    </tr>\n",
       "    <tr>\n",
       "      <th>179</th>\n",
       "      <td>-78.271358</td>\n",
       "      <td>37.875499</td>\n",
       "      <td>1</td>\n",
       "    </tr>\n",
       "    <tr>\n",
       "      <th>180</th>\n",
       "      <td>-77.016595</td>\n",
       "      <td>37.440940</td>\n",
       "      <td>4</td>\n",
       "    </tr>\n",
       "    <tr>\n",
       "      <th>181</th>\n",
       "      <td>-76.157474</td>\n",
       "      <td>36.658275</td>\n",
       "      <td>4</td>\n",
       "    </tr>\n",
       "    <tr>\n",
       "      <th>182</th>\n",
       "      <td>-78.584080</td>\n",
       "      <td>38.805295</td>\n",
       "      <td>1</td>\n",
       "    </tr>\n",
       "    <tr>\n",
       "      <th>183</th>\n",
       "      <td>-78.487136</td>\n",
       "      <td>37.527641</td>\n",
       "      <td>1</td>\n",
       "    </tr>\n",
       "    <tr>\n",
       "      <th>184</th>\n",
       "      <td>-81.574321</td>\n",
       "      <td>36.770964</td>\n",
       "      <td>3</td>\n",
       "    </tr>\n",
       "    <tr>\n",
       "      <th>185</th>\n",
       "      <td>-78.588025</td>\n",
       "      <td>37.900023</td>\n",
       "      <td>1</td>\n",
       "    </tr>\n",
       "    <tr>\n",
       "      <th>186</th>\n",
       "      <td>-77.483820</td>\n",
       "      <td>36.571513</td>\n",
       "      <td>4</td>\n",
       "    </tr>\n",
       "    <tr>\n",
       "      <th>187</th>\n",
       "      <td>-77.065434</td>\n",
       "      <td>37.412990</td>\n",
       "      <td>4</td>\n",
       "    </tr>\n",
       "    <tr>\n",
       "      <th>188</th>\n",
       "      <td>-77.328239</td>\n",
       "      <td>38.849091</td>\n",
       "      <td>1</td>\n",
       "    </tr>\n",
       "    <tr>\n",
       "      <th>189</th>\n",
       "      <td>-80.412603</td>\n",
       "      <td>36.946768</td>\n",
       "      <td>3</td>\n",
       "    </tr>\n",
       "    <tr>\n",
       "      <th>190</th>\n",
       "      <td>-83.566923</td>\n",
       "      <td>36.617236</td>\n",
       "      <td>3</td>\n",
       "    </tr>\n",
       "    <tr>\n",
       "      <th>191</th>\n",
       "      <td>-78.283577</td>\n",
       "      <td>39.316803</td>\n",
       "      <td>1</td>\n",
       "    </tr>\n",
       "    <tr>\n",
       "      <th>192</th>\n",
       "      <td>-77.829532</td>\n",
       "      <td>37.930853</td>\n",
       "      <td>1</td>\n",
       "    </tr>\n",
       "    <tr>\n",
       "      <th>193</th>\n",
       "      <td>-78.318617</td>\n",
       "      <td>37.109571</td>\n",
       "      <td>4</td>\n",
       "    </tr>\n",
       "    <tr>\n",
       "      <th>194</th>\n",
       "      <td>-79.427777</td>\n",
       "      <td>38.441325</td>\n",
       "      <td>2</td>\n",
       "    </tr>\n",
       "    <tr>\n",
       "      <th>195</th>\n",
       "      <td>-79.353708</td>\n",
       "      <td>38.098625</td>\n",
       "      <td>2</td>\n",
       "    </tr>\n",
       "    <tr>\n",
       "      <th>196</th>\n",
       "      <td>-82.615750</td>\n",
       "      <td>37.044569</td>\n",
       "      <td>3</td>\n",
       "    </tr>\n",
       "    <tr>\n",
       "      <th>197</th>\n",
       "      <td>-79.890006</td>\n",
       "      <td>38.019797</td>\n",
       "      <td>2</td>\n",
       "    </tr>\n",
       "    <tr>\n",
       "      <th>198</th>\n",
       "      <td>-81.090100</td>\n",
       "      <td>36.831459</td>\n",
       "      <td>3</td>\n",
       "    </tr>\n",
       "    <tr>\n",
       "      <th>199</th>\n",
       "      <td>-76.401730</td>\n",
       "      <td>37.755942</td>\n",
       "      <td>1</td>\n",
       "    </tr>\n",
       "  </tbody>\n",
       "</table>\n",
       "<p>200 rows × 3 columns</p>\n",
       "</div>"
      ],
      "text/plain": [
       "             x          y  quad\n",
       "0   -78.053891  39.269977     1\n",
       "1   -80.722252  37.264560     3\n",
       "2   -77.505943  38.707540     1\n",
       "3   -77.227168  36.800518     4\n",
       "4   -77.293841  37.533684     1\n",
       "5   -78.401097  37.648026     1\n",
       "6   -77.347530  39.013155     1\n",
       "7   -78.274185  37.424484     4\n",
       "8   -78.375259  38.381770     1\n",
       "9   -79.390132  36.776448     3\n",
       "10  -76.849212  37.871477     1\n",
       "11  -77.965944  37.215695     4\n",
       "12  -76.757029  37.562355     1\n",
       "13  -80.770646  37.213946     3\n",
       "14  -76.945093  37.336912     4\n",
       "15  -79.812016  38.106899     2\n",
       "16  -79.872700  36.874345     3\n",
       "17  -82.582098  36.671767     3\n",
       "18  -78.397111  37.296970     4\n",
       "19  -80.278897  37.459415     3\n",
       "20  -82.762086  36.938877     3\n",
       "21  -82.010229  37.383045     3\n",
       "22  -79.119400  38.028818     2\n",
       "23  -80.266618  36.898931     3\n",
       "24  -79.561258  38.558345     2\n",
       "25  -76.156882  36.767718     4\n",
       "26  -78.376717  37.934723     1\n",
       "27  -77.942226  38.793909     1\n",
       "28  -78.491945  38.952566     1\n",
       "29  -78.240776  38.855215     1\n",
       "..         ...        ...   ...\n",
       "170 -77.842549  37.766652     1\n",
       "171 -78.449586  36.735904     4\n",
       "172 -78.531413  37.058406     4\n",
       "173 -77.126591  37.317093     4\n",
       "174 -78.046000  39.068500     1\n",
       "175 -78.485640  37.633720     1\n",
       "176 -80.112493  37.490263     3\n",
       "177 -79.604033  37.083083     3\n",
       "178 -79.442671  36.908915     3\n",
       "179 -78.271358  37.875499     1\n",
       "180 -77.016595  37.440940     4\n",
       "181 -76.157474  36.658275     4\n",
       "182 -78.584080  38.805295     1\n",
       "183 -78.487136  37.527641     1\n",
       "184 -81.574321  36.770964     3\n",
       "185 -78.588025  37.900023     1\n",
       "186 -77.483820  36.571513     4\n",
       "187 -77.065434  37.412990     4\n",
       "188 -77.328239  38.849091     1\n",
       "189 -80.412603  36.946768     3\n",
       "190 -83.566923  36.617236     3\n",
       "191 -78.283577  39.316803     1\n",
       "192 -77.829532  37.930853     1\n",
       "193 -78.318617  37.109571     4\n",
       "194 -79.427777  38.441325     2\n",
       "195 -79.353708  38.098625     2\n",
       "196 -82.615750  37.044569     3\n",
       "197 -79.890006  38.019797     2\n",
       "198 -81.090100  36.831459     3\n",
       "199 -76.401730  37.755942     1\n",
       "\n",
       "[200 rows x 3 columns]"
      ]
     },
     "execution_count": 16,
     "metadata": {},
     "output_type": "execute_result"
    }
   ],
   "source": [
    "csr.df"
   ]
  },
  {
   "cell_type": "markdown",
   "metadata": {},
   "source": [
    "#### Explode a marked point pattern into a sequence of individual point patterns. Since the mark quad has 4 unique values, the sequence will be of length 4."
   ]
  },
  {
   "cell_type": "code",
   "execution_count": 17,
   "metadata": {},
   "outputs": [],
   "source": [
    "csr_q = csr.explode('quad')"
   ]
  },
  {
   "cell_type": "code",
   "execution_count": 18,
   "metadata": {},
   "outputs": [
    {
     "data": {
      "text/plain": [
       "4"
      ]
     },
     "execution_count": 18,
     "metadata": {},
     "output_type": "execute_result"
    }
   ],
   "source": [
    "len(csr_q)"
   ]
  },
  {
   "cell_type": "code",
   "execution_count": 19,
   "metadata": {},
   "outputs": [
    {
     "data": {
      "text/plain": [
       "<pointpats.pointpattern.PointPattern at 0x10bba3748>"
      ]
     },
     "execution_count": 19,
     "metadata": {},
     "output_type": "execute_result"
    }
   ],
   "source": [
    "csr"
   ]
  },
  {
   "cell_type": "code",
   "execution_count": 20,
   "metadata": {},
   "outputs": [
    {
     "name": "stdout",
     "output_type": "stream",
     "text": [
      "Point Pattern\n",
      "200 points\n",
      "Bounding rectangle [(-83.56692257960756,36.57151274569622), (-75.66076112672403,39.316803366254646)]\n",
      "Area of window: 21.704710881221757\n",
      "Intensity estimate for window: 9.214589454542507\n",
      "           x          y  quad\n",
      "0 -78.053891  39.269977     1\n",
      "1 -80.722252  37.264560     3\n",
      "2 -77.505943  38.707540     1\n",
      "3 -77.227168  36.800518     4\n",
      "4 -77.293841  37.533684     1\n"
     ]
    }
   ],
   "source": [
    "csr.summary()"
   ]
  },
  {
   "cell_type": "markdown",
   "metadata": {},
   "source": [
    "#### Plot the 4 individual sequences"
   ]
  },
  {
   "cell_type": "code",
   "execution_count": 21,
   "metadata": {},
   "outputs": [
    {
     "data": {
      "text/plain": [
       "\u001b[0;31mSignature:\u001b[0m \u001b[0mplt\u001b[0m\u001b[0;34m.\u001b[0m\u001b[0mxlim\u001b[0m\u001b[0;34m(\u001b[0m\u001b[0;34m*\u001b[0m\u001b[0margs\u001b[0m\u001b[0;34m,\u001b[0m \u001b[0;34m**\u001b[0m\u001b[0mkwargs\u001b[0m\u001b[0;34m)\u001b[0m\u001b[0;34m\u001b[0m\u001b[0;34m\u001b[0m\u001b[0m\n",
       "\u001b[0;31mDocstring:\u001b[0m\n",
       "Get or set the x limits of the current axes.\n",
       "\n",
       "Call signatures::\n",
       "\n",
       "    left, right = xlim()  # return the current xlim\n",
       "    xlim((left, right))   # set the xlim to left, right\n",
       "    xlim(left, right)     # set the xlim to left, right\n",
       "\n",
       "If you do not specify args, you can pass *left* or *right* as kwargs,\n",
       "i.e.::\n",
       "\n",
       "    xlim(right=3)  # adjust the right leaving left unchanged\n",
       "    xlim(left=1)  # adjust the left leaving right unchanged\n",
       "\n",
       "Setting limits turns autoscaling off for the x-axis.\n",
       "\n",
       "Returns\n",
       "-------\n",
       "left, right\n",
       "    A tuple of the new x-axis limits.\n",
       "\n",
       "Notes\n",
       "-----\n",
       "Calling this function with no arguments (e.g. ``xlim()``) is the pyplot\n",
       "equivalent of calling `~.Axes.get_xlim` on the current axes.\n",
       "Calling this function with arguments is the pyplot equivalent of calling\n",
       "`~.Axes.set_xlim` on the current axes. All arguments are passed though.\n",
       "\u001b[0;31mFile:\u001b[0m      /Library/Frameworks/Python.framework/Versions/3.7/lib/python3.7/site-packages/matplotlib/pyplot.py\n",
       "\u001b[0;31mType:\u001b[0m      function\n"
      ]
     },
     "metadata": {},
     "output_type": "display_data"
    }
   ],
   "source": [
    "plt.xlim?"
   ]
  },
  {
   "cell_type": "code",
   "execution_count": 22,
   "metadata": {
    "scrolled": true
   },
   "outputs": [
    {
     "data": {
      "image/png": "[encoded data removed]",
      "text/plain": [
       "<Figure size 432x288 with 1 Axes>"
      ]
     },
     "metadata": {
      "image/png": {
       "height": 252,
       "width": 380
      },
      "needs_background": "light"
     },
     "output_type": "display_data"
    },
    {
     "data": {
      "image/png": "[encoded data removed]",
      "text/plain": [
       "<Figure size 432x288 with 1 Axes>"
      ]
     },
     "metadata": {
      "image/png": {
       "height": 263,
       "width": 384
      },
      "needs_background": "light"
     },
     "output_type": "display_data"
    },
    {
     "data": {
      "image/png": "[encoded data removed]",
      "text/plain": [
       "<Figure size 432x288 with 1 Axes>"
      ]
     },
     "metadata": {
      "image/png": {
       "height": 263,
       "width": 378
      },
      "needs_background": "light"
     },
     "output_type": "display_data"
    },
    {
     "data": {
      "image/png": "[encoded data removed]",
      "text/plain": [
       "<Figure size 432x288 with 1 Axes>"
      ]
     },
     "metadata": {
      "image/png": {
       "height": 263,
       "width": 378
      },
      "needs_background": "light"
     },
     "output_type": "display_data"
    },
    {
     "data": {
      "image/png": "[encoded data removed]",
      "text/plain": [
       "<Figure size 432x288 with 1 Axes>"
      ]
     },
     "metadata": {
      "image/png": {
       "height": 263,
       "width": 378
      },
      "needs_background": "light"
     },
     "output_type": "display_data"
    }
   ],
   "source": [
    "plt.xlim()\n",
    "for ppn in csr_q:\n",
    "    ppn.plot()"
   ]
  },
  {
   "cell_type": "markdown",
   "metadata": {},
   "source": [
    "#### Plot the 4 unmarked point patterns using the same axes for a convenient comparison of locations"
   ]
  },
  {
   "cell_type": "code",
   "execution_count": 23,
   "metadata": {},
   "outputs": [],
   "source": [
    "x0, y0, x1, y1 = csr.mbb\n",
    "ylim = (y0, y1)\n",
    "xlim = (x0, x1)"
   ]
  },
  {
   "cell_type": "code",
   "execution_count": 24,
   "metadata": {},
   "outputs": [
    {
     "data": {
      "image/png": "[encoded data removed]",
      "text/plain": [
       "<Figure size 432x288 with 1 Axes>"
      ]
     },
     "metadata": {
      "image/png": {
       "height": 263,
       "width": 378
      },
      "needs_background": "light"
     },
     "output_type": "display_data"
    },
    {
     "data": {
      "image/png": "[encoded data removed]",
      "text/plain": [
       "<Figure size 432x288 with 1 Axes>"
      ]
     },
     "metadata": {
      "image/png": {
       "height": 263,
       "width": 378
      },
      "needs_background": "light"
     },
     "output_type": "display_data"
    },
    {
     "data": {
      "image/png": "[encoded data removed]",
      "text/plain": [
       "<Figure size 432x288 with 1 Axes>"
      ]
     },
     "metadata": {
      "image/png": {
       "height": 263,
       "width": 378
      },
      "needs_background": "light"
     },
     "output_type": "display_data"
    },
    {
     "data": {
      "image/png": "[encoded data removed]",
      "text/plain": [
       "<Figure size 432x288 with 1 Axes>"
      ]
     },
     "metadata": {
      "image/png": {
       "height": 263,
       "width": 378
      },
      "needs_background": "light"
     },
     "output_type": "display_data"
    }
   ],
   "source": [
    "for ppn in csr_q:\n",
    "    ppn.plot()\n",
    "    plt.xlim(xlim)\n",
    "    plt.ylim(ylim)"
   ]
  },
  {
   "cell_type": "code",
   "execution_count": null,
   "metadata": {},
   "outputs": [],
   "source": []
  },
  {
   "cell_type": "code",
   "execution_count": null,
   "metadata": {},
   "outputs": [],
   "source": []
  }
 ],
 "metadata": {
  "kernelspec": {
   "display_name": "Python 3",
   "language": "python",
   "name": "python3"
  },
  "language_info": {
   "codemirror_mode": {
    "name": "ipython",
    "version": 3
   },
   "file_extension": ".py",
   "mimetype": "text/x-python",
   "name": "python",
   "nbconvert_exporter": "python",
   "pygments_lexer": "ipython3",
   "version": "3.7.3"
  }
 },
 "nbformat": 4,
 "nbformat_minor": 4
}
